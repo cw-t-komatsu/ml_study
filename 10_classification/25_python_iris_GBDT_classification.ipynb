{
 "cells": [
  {
   "cell_type": "markdown",
   "metadata": {},
   "source": [
    "# irisデータセットをGBDTで分類する"
   ]
  },
  {
   "cell_type": "code",
   "execution_count": 1,
   "metadata": {},
   "outputs": [],
   "source": [
    "import numpy as np\n",
    "import matplotlib.pyplot as plt\n",
    "from sklearn import datasets\n",
    "\n",
    "RANDOM_SEED=71"
   ]
  },
  {
   "cell_type": "markdown",
   "metadata": {},
   "source": [
    "# データの前処理"
   ]
  },
  {
   "cell_type": "code",
   "execution_count": 2,
   "metadata": {},
   "outputs": [
    {
     "name": "stderr",
     "output_type": "stream",
     "text": [
      "/Users/rd_bigdata01/.pyenv/versions/anaconda3-5.1.0/lib/python3.6/site-packages/sklearn/cross_validation.py:41: DeprecationWarning: This module was deprecated in version 0.18 in favor of the model_selection module into which all the refactored classes and functions are moved. Also note that the interface of the new CV iterators are different from that of this module. This module will be removed in 0.20.\n",
      "  \"This module will be removed in 0.20.\", DeprecationWarning)\n"
     ]
    }
   ],
   "source": [
    "# 前と同じなので説明割愛\n",
    "\n",
    "from sklearn.cross_validation import train_test_split\n",
    "from sklearn.preprocessing import StandardScaler \n",
    "\n",
    "iris = datasets.load_iris()\n",
    "\n",
    "X = iris.data[:, [2,3]]\n",
    "y = iris.target\n",
    "\n",
    "X_train, X_test, y_train, y_test = train_test_split(X, y, test_size=0.3, \n",
    "                                                    random_state=RANDOM_SEED )\n",
    "\n",
    "# データの標準化処理\n",
    "sc = StandardScaler()\n",
    "sc.fit(X_train)\n",
    "X_train_std = sc.transform(X_train)\n",
    "X_test_std = sc.transform(X_test)"
   ]
  },
  {
   "cell_type": "markdown",
   "metadata": {},
   "source": [
    "# モデルの学習"
   ]
  },
  {
   "cell_type": "code",
   "execution_count": 6,
   "metadata": {},
   "outputs": [
    {
     "data": {
      "text/plain": [
       "GradientBoostingClassifier(criterion='friedman_mse', init=None,\n",
       "              learning_rate=0.1, loss='deviance', max_depth=3,\n",
       "              max_features=None, max_leaf_nodes=None,\n",
       "              min_impurity_decrease=0.0, min_impurity_split=None,\n",
       "              min_samples_leaf=1, min_samples_split=2,\n",
       "              min_weight_fraction_leaf=0.0, n_estimators=100,\n",
       "              presort='auto', random_state=None, subsample=1.0, verbose=0,\n",
       "              warm_start=False)"
      ]
     },
     "execution_count": 6,
     "metadata": {},
     "output_type": "execute_result"
    }
   ],
   "source": [
    "from sklearn import ensemble\n",
    "\n",
    "model = ensemble.GradientBoostingClassifier(n_estimators=100,\n",
    "                                            learning_rate=0.1,\n",
    "                                            max_depth=3)\n",
    "# モデルの学習。fit関数で行う。\n",
    "model.fit(X_train_std, y_train)"
   ]
  },
  {
   "cell_type": "markdown",
   "metadata": {},
   "source": [
    "# モデルの精度を評価する"
   ]
  },
  {
   "cell_type": "code",
   "execution_count": 7,
   "metadata": {},
   "outputs": [
    {
     "name": "stdout",
     "output_type": "stream",
     "text": [
      "トレーニングデータに対する正解率： 0.99\n",
      "テストデータに対する正解率： 0.89\n"
     ]
    }
   ],
   "source": [
    "from sklearn.metrics import accuracy_score\n",
    "\n",
    "# トレーニングデータに対する精度\n",
    "pred_train = model.predict(X_train_std)\n",
    "accuracy_train = accuracy_score(y_train, pred_train)\n",
    "print('トレーニングデータに対する正解率： %.2f' % accuracy_train)\n",
    "\n",
    "# テストデータに対する精度\n",
    "pred_test = model.predict(X_test_std)\n",
    "accuracy_test = accuracy_score(y_test, pred_test)\n",
    "print('テストデータに対する正解率： %.2f' % accuracy_test)"
   ]
  },
  {
   "cell_type": "markdown",
   "metadata": {},
   "source": [
    "# 分類結果の可視化\n",
    "* mlxtendというツールの機能を使って可視化している\n",
    "* https://qiita.com/altescy/items/60a6def66f13267f6347"
   ]
  },
  {
   "cell_type": "code",
   "execution_count": 8,
   "metadata": {},
   "outputs": [
    {
     "name": "stdout",
     "output_type": "stream",
     "text": [
      "model : GradientBoostingClassifier\n"
     ]
    },
    {
     "data": {
      "image/png": "[encoded data removed]",
      "text/plain": [
       "<matplotlib.figure.Figure at 0x10cfc2b70>"
      ]
     },
     "metadata": {},
     "output_type": "display_data"
    }
   ],
   "source": [
    "#分類結果を図示する\n",
    "import matplotlib.pyplot as plt\n",
    "\n",
    "# scikit-laernやmatplotlibに含まれない機能を含むPythonライブラリ\n",
    "from mlxtend.plotting import plot_decision_regions\n",
    "plt.style.use('ggplot') \n",
    "\n",
    "#配列データの結合（教師データ＋試験データ）\n",
    "X_combined_std = np.vstack((X_train_std, X_test_std))\n",
    "y_combined = np.hstack((y_train, y_test))\n",
    "\n",
    "# 可視化\n",
    "fig = plt.figure(figsize=(13,8))\n",
    "\n",
    "# model名の取得\n",
    "# <class 'sklearn.linear_model.logistic.LogisticRegression'>\n",
    "# -> LogisticRegression\n",
    "model_title = str(type(model)).split(\".\")[-1][:-2]#[:-len(\"Classifier\")]\n",
    "print(\"model : \" + model_title)\n",
    "\n",
    "# 分類器の決定境界を引いてくれる神機能(mlxtendに含まれる機能の１つ)\n",
    "# データとターゲット，分類器を渡すだけで描いてくれる\n",
    "plot_decision_regions(X_combined_std, y_combined, clf=model,  res=0.02)\n",
    "plt.show()"
   ]
  }
 ],
 "metadata": {
  "kernelspec": {
   "display_name": "Python 3",
   "language": "python",
   "name": "python3"
  },
  "language_info": {
   "codemirror_mode": {
    "name": "ipython",
    "version": 3
   },
   "file_extension": ".py",
   "mimetype": "text/x-python",
   "name": "python",
   "nbconvert_exporter": "python",
   "pygments_lexer": "ipython3",
   "version": "3.6.4"
  }
 },
 "nbformat": 4,
 "nbformat_minor": 2
}
