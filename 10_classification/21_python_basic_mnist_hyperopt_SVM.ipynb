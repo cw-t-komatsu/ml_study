{
 "cells": [
  {
   "cell_type": "markdown",
   "metadata": {},
   "source": [
    "# HyperoptによるScikit-learn(SVC)のハイパーパラメータチューニング"
   ]
  },
  {
   "cell_type": "code",
   "execution_count": 1,
   "metadata": {},
   "outputs": [],
   "source": [
    "import numpy as np\n",
    "from hyperopt import hp, tpe, Trials, fmin\n"
   ]
  },
  {
   "cell_type": "markdown",
   "metadata": {},
   "source": [
    "# データの取得と整形"
   ]
  },
  {
   "cell_type": "code",
   "execution_count": 2,
   "metadata": {},
   "outputs": [
    {
     "name": "stdout",
     "output_type": "stream",
     "text": [
      "学習用データ [(0, 119), (1, 121), (2, 117), (3, 121), (4, 120), (5, 123), (6, 120), (7, 118), (8, 119), (9, 122)]\n",
      "チューニング用データ [(0, 59), (1, 61), (2, 60), (3, 62), (4, 61), (5, 59), (6, 61), (7, 61), (8, 55), (9, 58)]\n"
     ]
    }
   ],
   "source": [
    "num_x = 1200\n",
    "\n",
    "# MNIST(手書き文字） 10ラベル,64次元\n",
    "from sklearn.datasets import load_digits\n",
    "digits = load_digits(n_class=10)\n",
    "data = digits['data']\n",
    "data = data / np.max(digits['data'])\n",
    "target = digits['target']\n",
    "\n",
    "# 1200個の教師データと、597の試験データに分割\n",
    "x_train, x_test = data[:num_x], data[num_x:]\n",
    "y_train, y_test = target[:num_x], target[num_x:]\n",
    "\n",
    "from collections import Counter\n",
    "\n",
    "### 下記print文の動作確認ログ（不要）\n",
    "## sorted keyの動作確認\n",
    "#a = [[0,1],[1,2],[2,3],[0,4],[1,5],[1,6]    ]\n",
    "#print(sorted(a, key=lambda x:x[0]))\n",
    "## [[0, 1], [0, 4], [1, 2], [1, 5], [1, 6], [2, 3]]\n",
    "## リストa を、lambda式の中身(x[0])でソートする\n",
    "## それぞれのラベル毎(key)にソートする\n",
    "#print(sorted(y_train, key=lambda x:x))\n",
    "## リストを渡すと、キーに要素、値に出現回数を持つ、ペアのタプルのリストになる\n",
    "#print(Counter(y_train).items())\n",
    "## リストkvのkey(0~10)でsortして、表示をする\n",
    "#kv = Counter(y_train).items()\n",
    "#print(sorted([(key, value) for key, value in kv], key=lambda x:x[0]))\n",
    "\n",
    "# それぞれのラベル毎(key)に、データが何件あるか(value)を数える\n",
    "print ('学習用データ', sorted([(key, value) for key, value in Counter(y_train).items()], key=lambda x:x[0]))\n",
    "print ('チューニング用データ', sorted([(key, value) for key, value in Counter(y_test).items()], key=lambda x:x[0]))\n"
   ]
  },
  {
   "cell_type": "markdown",
   "metadata": {},
   "source": [
    "### Hyperoptを使用するための評価関数とパラメータ探索空間の設定\n",
    "### Scikit-Learnでモデルを作り、F値を評価関数とする"
   ]
  },
  {
   "cell_type": "code",
   "execution_count": 3,
   "metadata": {},
   "outputs": [],
   "source": [
    "# パラメータ探索空間\n",
    "hyperopt_parameters = {\n",
    "    # log_uniformは範囲指定(exp(uniform(low, high))のような対数に一様分布)\n",
    "    'C': hp.loguniform('C', -8, 2),\n",
    "    'gamma': hp.loguniform('gamma', -8, 2),\n",
    "    # hp.choiceは、リストのどれか１つを選択する\n",
    "    'kernel': hp.choice('kernel', ['rbf', 'poly', 'sigmoid'])\n",
    "}\n",
    "\n",
    "from sklearn.svm import SVC\n",
    "from sklearn.metrics import f1_score\n",
    "# 評価関数\n",
    "# argsには、設定した探索するパラメータが渡される\n",
    "def objective(args):\n",
    "    # SVMによるモデルの作成と学習\n",
    "    ## **argsは可変長引数、辞書に含まれる複数の要素を、それぞれの引数として渡す\n",
    "    model = SVC(**args)\n",
    "    model.fit(x_train, y_train)\n",
    "    # 学習したモデルのF値を評価指標とする\n",
    "    predicts = model.predict(x_test)\n",
    "    f1 = f1_score(y_test, predicts, average='micro')\n",
    "    # hyperoptは最小化を返すため、最大化を求める場合は-1をかける\n",
    "    return -1*f1"
   ]
  },
  {
   "cell_type": "markdown",
   "metadata": {},
   "source": [
    "# Hyperoptの実行とチューニングの実施"
   ]
  },
  {
   "cell_type": "code",
   "execution_count": 4,
   "metadata": {},
   "outputs": [],
   "source": [
    "# 試行回数\n",
    "max_evals = 200\n",
    "# 試行の過程を記録するインスタンス\n",
    "trials = Trials()\n",
    "\n",
    "# hyperopt.fmin()により、探索空間における最小の値を探索する\n",
    "best = fmin(\n",
    "    # 1.最小化する関数の定義\n",
    "    objective,\n",
    "    # 2.探索空間の設定\n",
    "    hyperopt_parameters,\n",
    "    # 3.どのロジックを利用するか、基本的にはtpe.suggestでOK\n",
    "    algo=tpe.suggest,\n",
    "    # 4.iterationする回数\n",
    "    max_evals=max_evals,\n",
    "    # 試行の過程を記録\n",
    "    trials=trials,\n",
    "    # 試行の過程を出力\n",
    "    verbose=1\n",
    ")"
   ]
  },
  {
   "cell_type": "markdown",
   "metadata": {},
   "source": [
    "# 実行結果の確認"
   ]
  },
  {
   "cell_type": "code",
   "execution_count": 7,
   "metadata": {},
   "outputs": [
    {
     "name": "stdout",
     "output_type": "stream",
     "text": [
      "{'C': 2.016404394551364, 'gamma': 0.22702333600100658, 'kernel': 0}\n",
      "ベストスコア\n",
      "micro_f1 :  0.9698492462311558\n",
      "C        :  2.016404394551364\n",
      "gamma    :  0.22702333600100658\n",
      "kernel   :  rbf\n"
     ]
    }
   ],
   "source": [
    "print(best)\n",
    "print('ベストスコア')\n",
    "print('micro_f1 : ', -1*trials.best_trial['result']['loss'])\n",
    "print('C        : ', best['C'])\n",
    "print('gamma    : ', best['gamma'])\n",
    "print('kernel   : ', ['rbf', 'poly', 'sigmoid'][best['kernel']])\n"
   ]
  },
  {
   "cell_type": "markdown",
   "metadata": {},
   "source": [
    "# Hyperoptの実行時間の測定"
   ]
  },
  {
   "cell_type": "code",
   "execution_count": 9,
   "metadata": {},
   "outputs": [
    {
     "name": "stdout",
     "output_type": "stream",
     "text": [
      "38.1 s ± 1.03 s per loop (mean ± std. dev. of 7 runs, 1 loop each)\n"
     ]
    }
   ],
   "source": [
    "max_evals = 200\n",
    "\n",
    "def hyperopt_search(max_evals):\n",
    "    trials = Trials()\n",
    "    best = fmin(objective, hyperopt_parameters, algo=tpe.suggest, max_evals=max_evals, trials=trials)\n",
    "    return -1*trials.best_trial['result']['loss']\n",
    "\n",
    "%timeit hyperopt_search(max_evals)\n",
    "# 38.1 s ± 1.03 s per loop (mean ± std. dev. of 7 runs, 1 loop each)\n"
   ]
  },
  {
   "cell_type": "markdown",
   "metadata": {},
   "source": [
    "## 比較としてランダムサーチによる実行時間の測定"
   ]
  },
  {
   "cell_type": "code",
   "execution_count": 10,
   "metadata": {},
   "outputs": [
    {
     "name": "stdout",
     "output_type": "stream",
     "text": [
      "44.8 s ± 1.24 s per loop (mean ± std. dev. of 7 runs, 1 loop each)\n"
     ]
    }
   ],
   "source": [
    "num_iter = 200\n",
    "\n",
    "def random_search(num_iter):\n",
    "    results = []\n",
    "    for _ in range(num_iter):\n",
    "        random_params = {\n",
    "            'C': np.exp(np.random.uniform(-8, 2)),\n",
    "            'gamma': np.exp(np.random.uniform(-8, 2)),\n",
    "            'kernel': str(np.random.choice(['rbf', 'poly', 'sigmoid']))\n",
    "        }\n",
    "        model = SVC(**random_params)\n",
    "        model.fit(x_train, y_train)\n",
    "        predicts = model.predict(x_test)\n",
    "        f1 = f1_score(y_test, predicts, average='micro')\n",
    "        results.append((f1, random_params))\n",
    "    return sorted(results, key=lambda x:x[0], reverse=True)[0]\n",
    "\n",
    "%timeit random_search(num_iter)"
   ]
  },
  {
   "cell_type": "markdown",
   "metadata": {},
   "source": [
    "* Hyperopt     : 38.1 s ± 1.03 s\n",
    "* RandomSearch : 44.8 s ± 1.24 s"
   ]
  },
  {
   "cell_type": "markdown",
   "metadata": {},
   "source": [
    "# 精度の比較"
   ]
  },
  {
   "cell_type": "code",
   "execution_count": 11,
   "metadata": {},
   "outputs": [],
   "source": [
    "# このコードは時間がかかるので簡単に実行しない（１時間以上）\n",
    "# 精度の比較がしたいのであれば、下のグラフを見るだけで良い\n",
    "\n",
    "num_epoch = 100\n",
    "num_iter = 50\n",
    "\n",
    "f1s_h = []\n",
    "f1s_r = []\n",
    "\n",
    "for epoch in range(1, num_epoch+1):\n",
    "    f1_hyperopt = hyperopt_search(num_iter)\n",
    "    f1_random = random_search(num_iter)\n",
    "    f1s_h.append(f1_hyperopt)\n",
    "    f1s_r.append(f1_random)\n",
    "    "
   ]
  },
  {
   "cell_type": "code",
   "execution_count": 30,
   "metadata": {},
   "outputs": [],
   "source": [
    "#print(f1s_r)\n",
    "#(0.9564489112227805, {'C': 6.656751129818089, 'gamma': 0.6659230612613102, 'kernel': 'rbf'})\n",
    "f1s_r2 = []\n",
    "for i in range(len(f1s_r)):\n",
    "    f1s_r2.append(f1s_r[i][0])\n"
   ]
  },
  {
   "cell_type": "code",
   "execution_count": 31,
   "metadata": {},
   "outputs": [
    {
     "data": {
      "image/png": "[encoded data removed]",
      "text/plain": [
       "<matplotlib.figure.Figure at 0x1a17fc73c8>"
      ]
     },
     "metadata": {},
     "output_type": "display_data"
    }
   ],
   "source": [
    "plt.hist(f1s_h, bins=15, range=(0.95, 0.975), alpha=0.4, label='HyperOpt')\n",
    "plt.hist(f1s_r2, bins=15, range=(0.95, 0.975), alpha=0.4, label='Random')\n",
    "plt.xlabel('micro f1')\n",
    "plt.legend()\n",
    "plt.show()\n",
    "\n",
    "## ランダムサーチで見つけたF値に対して\n",
    "## Hyperoptで見つけたF値の方が、"
   ]
  }
 ],
 "metadata": {
  "kernelspec": {
   "display_name": "Python 3",
   "language": "python",
   "name": "python3"
  },
  "language_info": {
   "codemirror_mode": {
    "name": "ipython",
    "version": 3
   },
   "file_extension": ".py",
   "mimetype": "text/x-python",
   "name": "python",
   "nbconvert_exporter": "python",
   "pygments_lexer": "ipython3",
   "version": "3.6.4"
  }
 },
 "nbformat": 4,
 "nbformat_minor": 2
}
