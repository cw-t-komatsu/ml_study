{
 "cells": [
  {
   "cell_type": "markdown",
   "metadata": {},
   "source": [
    "\n",
    "# cross-validation(交差検証)による汎化性能の評価"
   ]
  },
  {
   "cell_type": "code",
   "execution_count": 12,
   "metadata": {},
   "outputs": [],
   "source": [
    "# データのロード\n",
    "import numpy as np\n",
    "from sklearn import datasets\n",
    "iris = datasets.load_iris()\n",
    "RANDOM_SEED=71"
   ]
  },
  {
   "cell_type": "code",
   "execution_count": 5,
   "metadata": {},
   "outputs": [],
   "source": [
    "# データの分割\n",
    "from sklearn.model_selection import train_test_split\n",
    "X_train, X_test, y_train, y_test = train_test_split(\n",
    "    iris.data, iris.target, random_state=RANDOM_SEED)\n"
   ]
  },
  {
   "cell_type": "code",
   "execution_count": 6,
   "metadata": {},
   "outputs": [
    {
     "data": {
      "text/plain": [
       "LogisticRegression(C=1.0, class_weight=None, dual=False, fit_intercept=True,\n",
       "          intercept_scaling=1, max_iter=100, multi_class='ovr', n_jobs=1,\n",
       "          penalty='l2', random_state=71, solver='liblinear', tol=0.0001,\n",
       "          verbose=0, warm_start=False)"
      ]
     },
     "execution_count": 6,
     "metadata": {},
     "output_type": "execute_result"
    }
   ],
   "source": [
    "# training set を用いて学習\n",
    "from sklearn.linear_model import LogisticRegression\n",
    "model = LogisticRegression(random_state=RANDOM_SEED)\n",
    "model.fit(X_train, y_train)\n"
   ]
  },
  {
   "cell_type": "code",
   "execution_count": 7,
   "metadata": {},
   "outputs": [
    {
     "name": "stdout",
     "output_type": "stream",
     "text": [
      "Test set score: 0.868421052631579\n"
     ]
    }
   ],
   "source": [
    "# test set を用いて評価\n",
    "score = model.score(X_test, y_test)\n",
    "print('Test set score: {}'.format(score))"
   ]
  },
  {
   "cell_type": "markdown",
   "metadata": {},
   "source": [
    "# cross-validation\n",
    "    交差検証では，データセットを kk 個に分割し，モデルの訓練と評価を kk 回行います．\n",
    "    得られた kk 個の評価値の平均をとった値を最終的なモデルのスコアとして扱います．\n",
    "1. データを kk 個のブロックに分ける．これを分割（fold）という．\n",
    "2. 最初の分割1 を test set，残りの分割2~5 を training set とし，モデルの学習と評価を行う．\n",
    "3. 分割2 を test set，残りの分割1, 3~5 を training set として，モデルの学習と評価を行う．\n",
    "4. この過程を，分割3, 4, 5 を test set として繰り返す．\n",
    "5. 得られた kk 個の精度の平均値をモデルの評価値とする．"
   ]
  },
  {
   "cell_type": "code",
   "execution_count": 8,
   "metadata": {},
   "outputs": [
    {
     "name": "stdout",
     "output_type": "stream",
     "text": [
      "Cross-Validation scores: [0.96078431 0.92156863 0.95833333]\n",
      "Average score: 0.9468954248366014\n"
     ]
    }
   ],
   "source": [
    "from sklearn.model_selection import cross_val_score\n",
    "\n",
    "model = LogisticRegression(random_state=RANDOM_SEED)\n",
    "\n",
    "##通常の評価\n",
    "##score = model.score(X_test, y_test)\n",
    "\n",
    "# 交差検証\n",
    "scores = cross_val_score(model, iris.data, iris.target)\n",
    "\n",
    "# 各分割におけるスコア\n",
    "print('Cross-Validation scores: {}'.format(scores))\n",
    "\n",
    "# スコアの平均値\n",
    "import numpy as np\n",
    "print('Average score: {}'.format(np.mean(scores)))"
   ]
  },
  {
   "cell_type": "markdown",
   "metadata": {},
   "source": [
    "# cross-validationでパラメータを細かく設定して評価を行う\n",
    "* 一般に、回帰には単純な kk 分割交差検証，クラス分類には層化 kk 分割交差検証が用いられる\n",
    "* パラメータ cv に何も指定しない場合はこの選択基準で分割方法が選択される"
   ]
  },
  {
   "cell_type": "code",
   "execution_count": 9,
   "metadata": {},
   "outputs": [
    {
     "name": "stdout",
     "output_type": "stream",
     "text": [
      "Cross-Validation scores: [1.         0.94871795 0.86111111 1.        ]\n",
      "Average score: 0.9524572649572649\n"
     ]
    }
   ],
   "source": [
    "from sklearn.model_selection import cross_val_score\n",
    "\n",
    "model = LogisticRegression(random_state=RANDOM_SEED)\n",
    "\n",
    "##通常の評価\n",
    "##score = model.score(X_test, y_test)\n",
    "\n",
    "# 交差検証\n",
    "scores = cross_val_score(model, # 学習モデル\n",
    "                         iris.data, iris.target, #データセットとラベル\n",
    "                         cv=4, # 分割数\n",
    "                         scoring=\"accuracy\" #評価指標\n",
    "                        )\n",
    "# 各分割におけるスコア\n",
    "print('Cross-Validation scores: {}'.format(scores))\n",
    "# スコアの平均値\n",
    "print('Average score: {}'.format(np.mean(scores)))\n"
   ]
  },
  {
   "cell_type": "markdown",
   "metadata": {},
   "source": [
    "## 層化 k 分割交差検証による交差検証"
   ]
  },
  {
   "cell_type": "code",
   "execution_count": 10,
   "metadata": {},
   "outputs": [
    {
     "name": "stdout",
     "output_type": "stream",
     "text": [
      "Cross-Validation scores: [0.96078431 0.92156863 0.95833333]\n",
      "Average score: 0.9468954248366014\n"
     ]
    }
   ],
   "source": [
    "model = LogisticRegression(random_state=RANDOM_SEED)\n",
    "\n",
    "# 層化 k 分割交差検証(分割内でクラスの比率が同じように分割される)\n",
    "from sklearn.model_selection import StratifiedKFold\n",
    "stratifiedkfold = StratifiedKFold(n_splits=3)\n",
    "\n",
    "# 交差検証\n",
    "scores = cross_val_score(model, # 学習モデル\n",
    "                         iris.data, iris.target, #データセットとラベル\n",
    "                         cv=stratifiedkfold, # 分割数\n",
    "                         scoring=\"accuracy\" #評価指標\n",
    "                        )\n",
    "# 各分割におけるスコア\n",
    "print('Cross-Validation scores: {}'.format(scores))\n",
    "# スコアの平均値\n",
    "print('Average score: {}'.format(np.mean(scores)))"
   ]
  },
  {
   "cell_type": "markdown",
   "metadata": {},
   "source": [
    "# 複数の評価指標で計算する場合の例\n",
    "ただし、後述のcross_validateができたので、この書き方しない"
   ]
  },
  {
   "cell_type": "code",
   "execution_count": 15,
   "metadata": {},
   "outputs": [
    {
     "name": "stdout",
     "output_type": "stream",
     "text": [
      "accuracy : 0.9468954248366014\n",
      "f1_macro : 0.9467955700798839\n",
      "recall_macro : 0.9468954248366014\n"
     ]
    }
   ],
   "source": [
    "\n",
    "model = LogisticRegression(random_state=RANDOM_SEED)\n",
    "\n",
    "from sklearn.model_selection import cross_val_score\n",
    "\n",
    "for score in [\"accuracy\", \"f1_macro\", \"recall_macro\"]:\n",
    "    scores = cross_val_score(model,\n",
    "                             iris.data, iris.target,\n",
    "                             cv=3,\n",
    "                             scoring=score\n",
    "                            )\n",
    "    print(score + \" : \" + str(scores.mean()))\n",
    "    \n"
   ]
  },
  {
   "cell_type": "markdown",
   "metadata": {},
   "source": [
    "# VerUPに伴う精度判定関数の変更\n",
    "    cross_val_score　から　cross_validateへ"
   ]
  },
  {
   "cell_type": "code",
   "execution_count": 16,
   "metadata": {},
   "outputs": [
    {
     "name": "stdout",
     "output_type": "stream",
     "text": [
      "{'fit_time': array([0.00135803, 0.00064993, 0.00062704]), 'score_time': array([0.00141072, 0.00111485, 0.00147986]), 'test_accuracy': array([0.96078431, 0.92156863, 0.95833333]), 'train_accuracy': array([0.94949495, 0.97979798, 0.96078431]), 'test_f1_macro': array([0.96064815, 0.92156863, 0.95816993]), 'train_f1_macro': array([0.94920342, 0.97977941, 0.96064815]), 'test_recall_macro': array([0.96078431, 0.92156863, 0.95833333]), 'train_recall_macro': array([0.94949495, 0.97979798, 0.96078431])}\n",
      "accuracy :  0.9468954248366014\n",
      "f1_macro :  0.9467955700798839\n",
      "recall_macro :  0.9468954248366014\n"
     ]
    }
   ],
   "source": [
    "from sklearn.model_selection import cross_validate\n",
    "model = LogisticRegression(random_state=RANDOM_SEED)\n",
    "\n",
    "# 交差検証\n",
    "scoring = [\"accuracy\", \"f1_macro\", \"recall_macro\"]\n",
    "scores = cross_validate(model, iris.data, iris.target, scoring=scoring)\n",
    "\n",
    "print(scores)\n",
    "print(\"accuracy : \", np.mean(scores['test_accuracy']))\n",
    "print(\"f1_macro : \", np.mean(scores['test_f1_macro']))\n",
    "print(\"recall_macro : \", np.mean(scores['test_recall_macro']))\n"
   ]
  },
  {
   "cell_type": "code",
   "execution_count": null,
   "metadata": {},
   "outputs": [],
   "source": []
  }
 ],
 "metadata": {
  "kernelspec": {
   "display_name": "Python 3",
   "language": "python",
   "name": "python3"
  },
  "language_info": {
   "codemirror_mode": {
    "name": "ipython",
    "version": 3
   },
   "file_extension": ".py",
   "mimetype": "text/x-python",
   "name": "python",
   "nbconvert_exporter": "python",
   "pygments_lexer": "ipython3",
   "version": "3.6.4"
  }
 },
 "nbformat": 4,
 "nbformat_minor": 2
}
